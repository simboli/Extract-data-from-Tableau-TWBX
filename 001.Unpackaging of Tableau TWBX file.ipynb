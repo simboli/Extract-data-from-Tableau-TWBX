{
 "cells": [
  {
   "cell_type": "markdown",
   "id": "cebb3bd0",
   "metadata": {},
   "source": [
    "# Unpackaging of Tableau TWBX file"
   ]
  },
  {
   "cell_type": "markdown",
   "id": "05f31386",
   "metadata": {},
   "source": [
    "## Modules"
   ]
  },
  {
   "cell_type": "code",
   "execution_count": 1,
   "id": "e2985f9b",
   "metadata": {},
   "outputs": [],
   "source": [
    "import zipfile\n",
    "import os"
   ]
  },
  {
   "cell_type": "markdown",
   "id": "159212b4",
   "metadata": {},
   "source": [
    "## Variables"
   ]
  },
  {
   "cell_type": "code",
   "execution_count": 2,
   "id": "4fe63e96",
   "metadata": {},
   "outputs": [],
   "source": [
    "twbxPath='01.Tableau TWBX/Salaries by College type in USA _ #Eduvizzers _ VOTD.twbx'\n",
    "unpackagedPath='02.Unpackaged Tableau workbooks'"
   ]
  },
  {
   "cell_type": "markdown",
   "id": "5693c7d5",
   "metadata": {},
   "source": [
    "## Extract packaged workbooks"
   ]
  },
  {
   "cell_type": "code",
   "execution_count": 3,
   "id": "e2ce7b23",
   "metadata": {},
   "outputs": [],
   "source": [
    "with zipfile.ZipFile(twbxPath, 'r') as zip_ref:\n",
    "    zip_ref.extractall(unpackagedPath)"
   ]
  },
  {
   "cell_type": "markdown",
   "id": "f2b2d0b6",
   "metadata": {},
   "source": [
    "## List of HYPER Tableau extracts"
   ]
  },
  {
   "cell_type": "code",
   "execution_count": 4,
   "id": "3fa29531",
   "metadata": {},
   "outputs": [
    {
     "name": "stdout",
     "output_type": "stream",
     "text": [
      "02.Unpackaged Tableau workbooks/Data/Datasources/salaries-by-college-type (1) (salaries-by-college-type (1)).hyper\n"
     ]
    }
   ],
   "source": [
    "for subdir, dirs, files in os.walk(unpackagedPath):\n",
    "    for file in files:\n",
    "        filepath = subdir + os.sep + file\n",
    "        if filepath.endswith(\".hyper\"):\n",
    "            print (filepath)"
   ]
  }
 ],
 "metadata": {
  "kernelspec": {
   "display_name": "venv",
   "language": "python",
   "name": "venv"
  },
  "language_info": {
   "codemirror_mode": {
    "name": "ipython",
    "version": 3
   },
   "file_extension": ".py",
   "mimetype": "text/x-python",
   "name": "python",
   "nbconvert_exporter": "python",
   "pygments_lexer": "ipython3",
   "version": "3.8.0"
  }
 },
 "nbformat": 4,
 "nbformat_minor": 5
}
